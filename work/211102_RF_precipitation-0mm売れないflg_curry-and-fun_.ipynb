{
 "cells": [
  {
   "cell_type": "code",
   "execution_count": 1,
   "id": "7eb63663-a240-4051-a502-8e50e54d4989",
   "metadata": {},
   "outputs": [],
   "source": [
    "import pandas as pd\n",
    "import numpy as np\n",
    "import seaborn as sns\n",
    "import matplotlib.pyplot as plt\n",
    "import japanize_matplotlib\n",
    "%matplotlib inline\n",
    "import sweetviz as sv\n",
    "sv.config_parser.read('../sweetviz_settings/sweetviz_settings.ini')\n",
    "# sv.config_parser.read('sweetviz_setting.ini')\n",
    "import category_encoders as ce\n",
    "from sklearn.model_selection import TimeSeriesSplit\n",
    "from sklearn.metrics import mean_squared_error\n",
    "\n",
    "import lightgbm as gbm\n",
    "from sklearn.ensemble import RandomForestRegressor as RF\n",
    "\n",
    "pd.set_option('display.max_columns', 50)\n",
    "pd.set_option('display.max_rows', 100)"
   ]
  },
  {
   "cell_type": "markdown",
   "id": "8fa0e2b2-68a5-4a1e-b31b-cde1debcc84c",
   "metadata": {},
   "source": [
    "# データの読み込み"
   ]
  },
  {
   "cell_type": "code",
   "execution_count": 2,
   "id": "bf26fa19-ea64-49ad-877e-833fdab784b0",
   "metadata": {},
   "outputs": [
    {
     "name": "stdout",
     "output_type": "stream",
     "text": [
      "train shape (207, 12)\n",
      "test shape (40, 11)\n"
     ]
    }
   ],
   "source": [
    "train = pd.read_csv('train.csv')\n",
    "test = pd.read_csv('test.csv')\n",
    "print('train shape', train.shape)\n",
    "print('test shape' , test.shape)\n"
   ]
  },
  {
   "cell_type": "markdown",
   "id": "b91a8682-5bbe-464c-8db9-b40d79f98fdc",
   "metadata": {},
   "source": [
    "# 前処理\n",
    "1. remarks : trainにしかない項目はnanに変更\n",
    "1. weather : 雷電、雪 は雨に丸め込み\n",
    "1. 祝日フラグ : 前祝日、後祝日のフラグ\n",
    "\n",
    "追記\n",
    "1. weatherの晴れ、快晴を丸め込み、 曇・薄曇の丸め込み"
   ]
  },
  {
   "cell_type": "code",
   "execution_count": 3,
   "id": "dbde1c76-8cba-4a56-a331-6d94b0864963",
   "metadata": {},
   "outputs": [],
   "source": [
    "### 不要な項目を消す系\n",
    "\n",
    "# remarksで１個しかないカテゴリは　カテゴリなしにする。\n",
    "def replace_remarks_cat(df):\n",
    "    _df = df['remarks'].value_counts().copy()\n",
    "    _df = _df[_df < 2]\n",
    "    \n",
    "    \n",
    "    for i in _df.index:\n",
    "        df['remarks'].loc[df['remarks'] == i] = np.nan\n",
    "\n",
    "# weather 雪と雷電を　雨に置き換え\n",
    "def replace_weather_cat(df):\n",
    "    _df = df['weather'].value_counts()\n",
    "    _df = _df[_df < 2]\n",
    "    \n",
    "    for i in _df.index:\n",
    "        df['weather'].loc[df['weather'] == i] = '雨'\n",
    "\n",
    "# category_encoding関数\n",
    "def encoding_func(df, encoding_col_name_list):\n",
    "    def which_col_is_object_func(df):\n",
    "        # 列がobjectを抽出してリストに\n",
    "        keys = list(df.dtypes.loc[df.dtypes == 'object'].index)\n",
    "        # 辞書化\n",
    "        values = list(range(len(object_list)))\n",
    "        object_dic = dict(zip(keys, values))\n",
    "        print(object_dic)\n",
    "    \n",
    "    \n",
    "    # カテゴリエンコーダーする\n",
    "    ce_oe = ce.OrdinalEncoder(cols = encoding_col_name_list, handle_unknown = 'impute')\n",
    "    df = ce_oe.fit_transform(df)\n",
    "\n",
    "    # カテゴリ番号の確認\n",
    "    \n",
    "    for i in range(len(encoding_col_name_list)):\n",
    "        print(pd.DataFrame(ce_oe.category_mapping[i]))\n",
    "        print()\n",
    "    return df\n",
    "\n",
    "\n",
    "# 休日前flg (category encodingのあとにやる)\n",
    "def before_holiday_func(df):\n",
    "    '''\n",
    "    祝日の前の日にフラグを立てる。\n",
    "    category encodingのあとに使うこと。\n",
    "    '''\n",
    "    df['before_holiday'] = 0\n",
    "    for i in range(len(df)):\n",
    "        \n",
    "        if df['week'].diff(-1).iloc[i] == -1.0:\n",
    "            df['before_holiday'].iloc[i] = 0        \n",
    "        \n",
    "        elif i == len(df):\n",
    "            df['before_holiday'].iloc[i] = 0\n",
    "        \n",
    "        else:\n",
    "            df['before_holiday'].iloc[i] = 1\n",
    "\n",
    "            \n",
    "# 休日後flg (category encodingのあとにやる)\n",
    "def after_holiday_func(df):\n",
    "    '''\n",
    "    祝日の次の日にフラグを立てる。\n",
    "    category encodingのあとに使うこと。\n",
    "    '''\n",
    "    \n",
    "    df['after_holiday'] = 0\n",
    "\n",
    "    for i in range(len(df)):\n",
    "        if i == 1:\n",
    "            df['week'].iloc[i] == 1\n",
    "            \n",
    "        elif df['week'].diff(1).iloc[i] == 1.0:\n",
    "            df['after_holiday'].iloc[i] = 0\n",
    "            \n",
    "        else:\n",
    "            df['after_holiday'].iloc[i] = 1\n",
    "\n",
    "def replace_weather_sunny_and_cloudy(df, weather):\n",
    "    df['weather'] = df['weather'].loc['']"
   ]
  },
  {
   "cell_type": "markdown",
   "id": "733e7b4c-b14a-4274-a260-9844d40466e7",
   "metadata": {},
   "source": [
    "## trainとtestの結合"
   ]
  },
  {
   "cell_type": "code",
   "execution_count": 4,
   "id": "b85fcbe3-5c3d-48b5-974f-a8e19b6eefa7",
   "metadata": {},
   "outputs": [],
   "source": [
    "# trainとtestの識別列を追加\n",
    "train['train_flg'] = True\n",
    "test['train_flg'] = False\n",
    "\n",
    "# データの結合\n",
    "all_data = pd.concat([train, test], axis = 0)\n",
    "proc_data = all_data.copy()\n",
    "proc_data['datetime'] = pd.to_datetime(proc_data['datetime'])"
   ]
  },
  {
   "cell_type": "markdown",
   "id": "00363abe-a5cf-404d-8ece-7f1f984a38fc",
   "metadata": {},
   "source": [
    "## カテゴリデータの処理"
   ]
  },
  {
   "cell_type": "code",
   "execution_count": 5,
   "id": "1e986120-a911-480a-b535-a179f88c695a",
   "metadata": {
    "tags": []
   },
   "outputs": [
    {
     "name": "stderr",
     "output_type": "stream",
     "text": [
      "/opt/anaconda3/lib/python3.8/site-packages/pandas/core/indexing.py:1637: SettingWithCopyWarning: \n",
      "A value is trying to be set on a copy of a slice from a DataFrame\n",
      "\n",
      "See the caveats in the documentation: https://pandas.pydata.org/pandas-docs/stable/user_guide/indexing.html#returning-a-view-versus-a-copy\n",
      "  self._setitem_single_block(indexer, value, name)\n",
      "/opt/anaconda3/lib/python3.8/site-packages/pandas/core/indexing.py:1637: SettingWithCopyWarning: \n",
      "A value is trying to be set on a copy of a slice from a DataFrame\n",
      "\n",
      "See the caveats in the documentation: https://pandas.pydata.org/pandas-docs/stable/user_guide/indexing.html#returning-a-view-versus-a-copy\n",
      "  self._setitem_single_block(indexer, value, name)\n"
     ]
    }
   ],
   "source": [
    "# カテゴリデータの処理\n",
    "replace_remarks_cat(all_data)\n",
    "\n",
    "# weatherのtrainにしかないカテゴリを丸め込み\n",
    "replace_weather_cat(all_data)\n",
    "# # weatherの薄曇ー曇、 晴れー快晴を丸め込み\n",
    "# proc_data['weather'].loc[proc_data['weather'] == '薄曇'] = '曇'\n",
    "# proc_data['weather'].loc[proc_data['weather'] == '晴れ'] = '快晴'\n",
    "\n",
    "\n",
    "# nan値の埋め\n",
    "proc_data['payday'] = proc_data['payday'].fillna(0)\n",
    "proc_data['remarks'] = proc_data['remarks'].fillna(0)\n",
    "proc_data['event'] = proc_data['event'].fillna(0)\n",
    "\n",
    "# 降水量の'--'の処理\n",
    "proc_data['precipitation'] = proc_data['precipitation'].apply(lambda x : -1 if x == '--' else float(x))"
   ]
  },
  {
   "cell_type": "code",
   "execution_count": null,
   "id": "65c31ee5-fb48-44fa-b3f7-978c49183cee",
   "metadata": {},
   "outputs": [],
   "source": []
  },
  {
   "cell_type": "code",
   "execution_count": null,
   "id": "bead83bc-d2d9-464d-8641-6b38993a4fc3",
   "metadata": {},
   "outputs": [],
   "source": []
  },
  {
   "cell_type": "markdown",
   "id": "729f3025-7c5c-4517-8af7-3cc38e5cc76b",
   "metadata": {},
   "source": [
    "## 数値データの処理"
   ]
  },
  {
   "cell_type": "code",
   "execution_count": 6,
   "id": "22b5b2ac-9d8f-429d-82e6-b51a6fdee0bd",
   "metadata": {},
   "outputs": [],
   "source": [
    "# kcalのnanをmedianで埋める\n",
    "proc_data['kcal'] = proc_data['kcal'].fillna(proc_data['kcal'].mean())"
   ]
  },
  {
   "cell_type": "markdown",
   "id": "b4a4fd65-b87f-4960-9ef5-e7a91f80828f",
   "metadata": {},
   "source": [
    "# カレー お楽しみメニューの特徴量を作成"
   ]
  },
  {
   "cell_type": "code",
   "execution_count": 7,
   "id": "2b45bce3-6bd7-400b-9893-1f3fdfcea6dc",
   "metadata": {},
   "outputs": [],
   "source": [
    "# メニューに対する処理\n",
    "\n",
    "# カレーだったら1\n",
    "proc_data['curry'] = proc_data['name'].apply(lambda x : 1 if 'カレー' in x else 0)\n",
    "# all_data['menchikatsu'] = all_data['name'].apply(lambda x : 1 if 'メンチカツ' in x else 0)\n",
    "\n",
    "# カレー かつ お楽しみメニューだったら1\n",
    "\n",
    "proc_data['funmenu'] = proc_data['remarks'].apply(lambda x : 1 if x == 'お楽しみメニュー' else 0)\n",
    "proc_data['curry_and_fun'] = 0\n",
    "\n",
    "for i in range(len(proc_data)):\n",
    "    if (proc_data['funmenu'].iloc[i] ==1) & (proc_data['curry'].iloc[i] ==1):\n",
    "        proc_data['curry_and_fun'].iloc[i] = 1\n",
    "\n",
    "    else :\n",
    "        proc_data['curry_and_fun'].iloc[i] = 0\n",
    "\n",
    "proc_data.drop(columns = 'funmenu', inplace = True)"
   ]
  },
  {
   "cell_type": "markdown",
   "id": "6a1d9a9e-6e4b-4374-a11c-568877e3b006",
   "metadata": {},
   "source": [
    "## エンコーディング "
   ]
  },
  {
   "cell_type": "code",
   "execution_count": 8,
   "id": "483786be-afed-4534-b89b-8d10fc8ddd1d",
   "metadata": {
    "tags": []
   },
   "outputs": [
    {
     "name": "stdout",
     "output_type": "stream",
     "text": [
      "      col  mapping data_type\n",
      "月    week        1    object\n",
      "火    week        2    object\n",
      "水    week        3    object\n",
      "木    week        4    object\n",
      "金    week        5    object\n",
      "NaN  week       -2    object\n",
      "\n",
      "                              col  mapping data_type\n",
      "0                         remarks        1    object\n",
      "鶏のレモンペッパー焼（50食）、カレー（42食）  remarks        2    object\n",
      "酢豚（28食）、カレー（85食）          remarks        3    object\n",
      "お楽しみメニュー                  remarks        4    object\n",
      "料理長のこだわりメニュー              remarks        5    object\n",
      "手作りの味                     remarks        6    object\n",
      "スペシャルメニュー（800円）           remarks        7    object\n",
      "近隣に飲食店複合ビルオープン            remarks        8    object\n",
      "NaN                       remarks       -2    object\n",
      "\n",
      "                 col  mapping data_type\n",
      "0              event        1    object\n",
      "ママの会           event        2    object\n",
      "キャリアアップ支援セミナー  event        3    object\n",
      "NaN            event       -2    object\n",
      "\n",
      "         col  mapping data_type\n",
      "快晴   weather        1    object\n",
      "曇    weather        2    object\n",
      "晴れ   weather        3    object\n",
      "薄曇   weather        4    object\n",
      "雨    weather        5    object\n",
      "雪    weather        6    object\n",
      "雷電   weather        7    object\n",
      "NaN  weather       -2    object\n",
      "\n"
     ]
    },
    {
     "name": "stderr",
     "output_type": "stream",
     "text": [
      "/opt/anaconda3/lib/python3.8/site-packages/category_encoders/utils.py:21: FutureWarning: is_categorical is deprecated and will be removed in a future version.  Use is_categorical_dtype instead\n",
      "  elif pd.api.types.is_categorical(cols):\n"
     ]
    }
   ],
   "source": [
    "# encoding\n",
    "encoding_col_name_list = ['week',\n",
    "                         'remarks',\n",
    "                         'event',\n",
    "                         'weather']\n",
    "\n",
    "proc_data = encoding_func(proc_data, encoding_col_name_list)"
   ]
  },
  {
   "cell_type": "markdown",
   "id": "aa14f0c2-e7ba-48ee-87c0-80acf0b96ba3",
   "metadata": {
    "tags": []
   },
   "source": [
    "## 特徴量作成"
   ]
  },
  {
   "cell_type": "code",
   "execution_count": 9,
   "id": "1c2a20b7-f43f-4b47-ba44-d9b243dd997c",
   "metadata": {},
   "outputs": [
    {
     "name": "stderr",
     "output_type": "stream",
     "text": [
      "/opt/anaconda3/lib/python3.8/site-packages/pandas/core/indexing.py:1637: SettingWithCopyWarning: \n",
      "A value is trying to be set on a copy of a slice from a DataFrame\n",
      "\n",
      "See the caveats in the documentation: https://pandas.pydata.org/pandas-docs/stable/user_guide/indexing.html#returning-a-view-versus-a-copy\n",
      "  self._setitem_single_block(indexer, value, name)\n"
     ]
    }
   ],
   "source": [
    "# 祝日前後の平日にflg\n",
    "after_holiday_func(proc_data)\n",
    "before_holiday_func(proc_data)"
   ]
  },
  {
   "cell_type": "markdown",
   "id": "fd0829eb-5086-48b3-a03a-845eb02634de",
   "metadata": {},
   "source": [
    "### 販売量に対する処理 (時系列の特徴量)"
   ]
  },
  {
   "cell_type": "markdown",
   "id": "dee9aafb-5a1b-459e-83fd-dcc4d3f1dfca",
   "metadata": {},
   "source": [
    "#### 変動率"
   ]
  },
  {
   "cell_type": "code",
   "execution_count": 10,
   "id": "d58a6179-b9c6-4d52-9231-654797bac369",
   "metadata": {},
   "outputs": [],
   "source": [
    "'''\n",
    "販売量が現象傾向 という情報を追加したい。\n",
    "1. trainをshiftしてtestの販売量を埋める\n",
    "2. trainのnan値になった箇所をmeanで埋める\n",
    "3. 各yに対して、pcf_changeで特徴量を作る\n",
    "4. モデル作成時は、最初のmeanを埋めた行を学習させない（使わない)\n",
    "'''\n",
    "\n",
    "proc_data['shift_y'] = proc_data['y'].shift(len(test)).fillna(proc_data['y'].median())\n",
    "proc_data['shift_2y'] = proc_data['y'].shift(len(test)+1).fillna(proc_data['y'].median())\n",
    "proc_data['pcf_change1'] = proc_data['shift_y'].pct_change(1)\n",
    "proc_data['pcf_change3'] = proc_data['shift_y'].pct_change(3)\n",
    "proc_data['pcf_change5'] = proc_data['shift_y'].pct_change(5)"
   ]
  },
  {
   "cell_type": "markdown",
   "id": "3852bd3e-41d2-443e-b7a9-a104ff77a369",
   "metadata": {},
   "source": [
    "#### 移動平均"
   ]
  },
  {
   "cell_type": "code",
   "execution_count": 11,
   "id": "3795df4d-c9b2-454f-a006-9b689005ef24",
   "metadata": {},
   "outputs": [],
   "source": [
    "proc_data['rolling_mean3'] = proc_data['shift_y'].rolling(3).mean()\n",
    "proc_data['rolling_mean5'] = proc_data['shift_y'].rolling(5).mean()"
   ]
  },
  {
   "cell_type": "markdown",
   "id": "5361c3f6-f6d9-416f-8b2c-577b7da2e882",
   "metadata": {},
   "source": [
    "# 学習"
   ]
  },
  {
   "cell_type": "markdown",
   "id": "c6c6f22c-a877-4b62-8ae2-11a9bacfdaa3",
   "metadata": {},
   "source": [
    "## Xとyに分割"
   ]
  },
  {
   "cell_type": "code",
   "execution_count": 14,
   "id": "8919c608-0b95-4301-bd6d-72596ea3d3f6",
   "metadata": {},
   "outputs": [
    {
     "data": {
      "text/plain": [
       "Index(['datetime', 'y', 'week', 'soldout', 'name', 'kcal', 'remarks', 'event',\n",
       "       'payday', 'weather', 'precipitation', 'temperature', 'train_flg',\n",
       "       'curry', 'curry_and_fun', 'after_holiday', 'before_holiday', 'shift_y',\n",
       "       'shift_2y', 'pcf_change1', 'pcf_change3', 'pcf_change5',\n",
       "       'rolling_mean3', 'rolling_mean5'],\n",
       "      dtype='object')"
      ]
     },
     "execution_count": 14,
     "metadata": {},
     "output_type": "execute_result"
    }
   ],
   "source": [
    "proc_data.columns"
   ]
  },
  {
   "cell_type": "code",
   "execution_count": 15,
   "id": "3e17975a-7ffe-4ecc-a82e-e23003452ae0",
   "metadata": {},
   "outputs": [],
   "source": [
    "# 前処理したデータをtrain と testに分割\n",
    "proc_data_train = proc_data.loc[proc_data['train_flg'] == True]\n",
    "proc_data_test = proc_data.loc[proc_data['train_flg'] == False]\n",
    "\n",
    "# 不要な列の削除 datetime , name ,  'temperature'\n",
    "proc_data_train = proc_data_train[['y', 'soldout', 'kcal', 'remarks', 'event',\n",
    "       'payday', 'weather', 'precipitation',\n",
    "       'curry','curry_and_fun', 'shift_y', 'shift_2y', 'pcf_change1',\n",
    "       'pcf_change3', 'pcf_change5', 'rolling_mean3', 'rolling_mean5']]\n",
    "proc_data_test = proc_data_test[['y', 'soldout', 'kcal', 'remarks', 'event',\n",
    "       'payday', 'weather', 'precipitation',\n",
    "       'curry','curry_and_fun', 'shift_y', 'shift_2y', 'pcf_change1',\n",
    "       'pcf_change3', 'pcf_change5', 'rolling_mean3', 'rolling_mean5']]\n",
    "\n",
    "\n",
    "\n",
    "# 不要な列の削除 feature trace\n",
    "# proc_data_train = proc_data_train[['y', 'soldout', 'kcal', 'remarks', 'event',\n",
    "#        'payday', 'weather', 'precipitation',\n",
    "#        'curry', 'shift_y', 'shift_2y',\n",
    "#        'rolling_mean3', 'rolling_mean5']]\n",
    "# proc_data_test = proc_data_test[['y', 'soldout', 'kcal', 'remarks', 'event',\n",
    "#        'payday', 'weather', 'precipitation',\n",
    "#        'curry', 'shift_y', 'shift_2y',\n",
    "#        'rolling_mean3', 'rolling_mean5']]\n"
   ]
  },
  {
   "cell_type": "code",
   "execution_count": 16,
   "id": "2c60adaf-8482-4a56-af32-4083426c33ca",
   "metadata": {},
   "outputs": [
    {
     "data": {
      "text/plain": [
       "Index(['y', 'soldout', 'kcal', 'remarks', 'event', 'payday', 'weather',\n",
       "       'precipitation', 'curry', 'curry_and_fun', 'shift_y', 'shift_2y',\n",
       "       'pcf_change1', 'pcf_change3', 'pcf_change5', 'rolling_mean3',\n",
       "       'rolling_mean5'],\n",
       "      dtype='object')"
      ]
     },
     "execution_count": 16,
     "metadata": {},
     "output_type": "execute_result"
    }
   ],
   "source": [
    "proc_data_train.columns"
   ]
  },
  {
   "cell_type": "code",
   "execution_count": 17,
   "id": "839cadb9-50c1-4819-93d3-bd0c52239324",
   "metadata": {},
   "outputs": [
    {
     "data": {
      "text/html": [
       "<div>\n",
       "<style scoped>\n",
       "    .dataframe tbody tr th:only-of-type {\n",
       "        vertical-align: middle;\n",
       "    }\n",
       "\n",
       "    .dataframe tbody tr th {\n",
       "        vertical-align: top;\n",
       "    }\n",
       "\n",
       "    .dataframe thead th {\n",
       "        text-align: right;\n",
       "    }\n",
       "</style>\n",
       "<table border=\"1\" class=\"dataframe\">\n",
       "  <thead>\n",
       "    <tr style=\"text-align: right;\">\n",
       "      <th></th>\n",
       "      <th>y</th>\n",
       "      <th>soldout</th>\n",
       "      <th>kcal</th>\n",
       "      <th>remarks</th>\n",
       "      <th>event</th>\n",
       "      <th>payday</th>\n",
       "      <th>weather</th>\n",
       "      <th>precipitation</th>\n",
       "      <th>curry</th>\n",
       "      <th>curry_and_fun</th>\n",
       "      <th>shift_y</th>\n",
       "      <th>shift_2y</th>\n",
       "      <th>pcf_change1</th>\n",
       "      <th>pcf_change3</th>\n",
       "      <th>pcf_change5</th>\n",
       "      <th>rolling_mean3</th>\n",
       "      <th>rolling_mean5</th>\n",
       "    </tr>\n",
       "  </thead>\n",
       "  <tbody>\n",
       "    <tr>\n",
       "      <th>0</th>\n",
       "      <td>90.0</td>\n",
       "      <td>0</td>\n",
       "      <td>407.381188</td>\n",
       "      <td>1</td>\n",
       "      <td>1</td>\n",
       "      <td>0.0</td>\n",
       "      <td>1</td>\n",
       "      <td>-1.0</td>\n",
       "      <td>0</td>\n",
       "      <td>0</td>\n",
       "      <td>78.0</td>\n",
       "      <td>78.0</td>\n",
       "      <td>NaN</td>\n",
       "      <td>NaN</td>\n",
       "      <td>NaN</td>\n",
       "      <td>NaN</td>\n",
       "      <td>NaN</td>\n",
       "    </tr>\n",
       "    <tr>\n",
       "      <th>1</th>\n",
       "      <td>101.0</td>\n",
       "      <td>1</td>\n",
       "      <td>407.381188</td>\n",
       "      <td>1</td>\n",
       "      <td>1</td>\n",
       "      <td>0.0</td>\n",
       "      <td>1</td>\n",
       "      <td>-1.0</td>\n",
       "      <td>0</td>\n",
       "      <td>0</td>\n",
       "      <td>78.0</td>\n",
       "      <td>78.0</td>\n",
       "      <td>0.000000</td>\n",
       "      <td>NaN</td>\n",
       "      <td>NaN</td>\n",
       "      <td>NaN</td>\n",
       "      <td>NaN</td>\n",
       "    </tr>\n",
       "    <tr>\n",
       "      <th>2</th>\n",
       "      <td>118.0</td>\n",
       "      <td>0</td>\n",
       "      <td>407.381188</td>\n",
       "      <td>1</td>\n",
       "      <td>1</td>\n",
       "      <td>0.0</td>\n",
       "      <td>1</td>\n",
       "      <td>-1.0</td>\n",
       "      <td>0</td>\n",
       "      <td>0</td>\n",
       "      <td>78.0</td>\n",
       "      <td>78.0</td>\n",
       "      <td>0.000000</td>\n",
       "      <td>NaN</td>\n",
       "      <td>NaN</td>\n",
       "      <td>78.000000</td>\n",
       "      <td>NaN</td>\n",
       "    </tr>\n",
       "    <tr>\n",
       "      <th>3</th>\n",
       "      <td>120.0</td>\n",
       "      <td>1</td>\n",
       "      <td>407.381188</td>\n",
       "      <td>1</td>\n",
       "      <td>1</td>\n",
       "      <td>0.0</td>\n",
       "      <td>1</td>\n",
       "      <td>-1.0</td>\n",
       "      <td>0</td>\n",
       "      <td>0</td>\n",
       "      <td>78.0</td>\n",
       "      <td>78.0</td>\n",
       "      <td>0.000000</td>\n",
       "      <td>0.000000</td>\n",
       "      <td>NaN</td>\n",
       "      <td>78.000000</td>\n",
       "      <td>NaN</td>\n",
       "    </tr>\n",
       "    <tr>\n",
       "      <th>4</th>\n",
       "      <td>130.0</td>\n",
       "      <td>1</td>\n",
       "      <td>407.381188</td>\n",
       "      <td>1</td>\n",
       "      <td>1</td>\n",
       "      <td>0.0</td>\n",
       "      <td>1</td>\n",
       "      <td>-1.0</td>\n",
       "      <td>0</td>\n",
       "      <td>0</td>\n",
       "      <td>78.0</td>\n",
       "      <td>78.0</td>\n",
       "      <td>0.000000</td>\n",
       "      <td>0.000000</td>\n",
       "      <td>NaN</td>\n",
       "      <td>78.000000</td>\n",
       "      <td>78.0</td>\n",
       "    </tr>\n",
       "    <tr>\n",
       "      <th>...</th>\n",
       "      <td>...</td>\n",
       "      <td>...</td>\n",
       "      <td>...</td>\n",
       "      <td>...</td>\n",
       "      <td>...</td>\n",
       "      <td>...</td>\n",
       "      <td>...</td>\n",
       "      <td>...</td>\n",
       "      <td>...</td>\n",
       "      <td>...</td>\n",
       "      <td>...</td>\n",
       "      <td>...</td>\n",
       "      <td>...</td>\n",
       "      <td>...</td>\n",
       "      <td>...</td>\n",
       "      <td>...</td>\n",
       "      <td>...</td>\n",
       "    </tr>\n",
       "    <tr>\n",
       "      <th>202</th>\n",
       "      <td>59.0</td>\n",
       "      <td>1</td>\n",
       "      <td>408.000000</td>\n",
       "      <td>1</td>\n",
       "      <td>1</td>\n",
       "      <td>0.0</td>\n",
       "      <td>2</td>\n",
       "      <td>0.0</td>\n",
       "      <td>0</td>\n",
       "      <td>0</td>\n",
       "      <td>56.0</td>\n",
       "      <td>53.0</td>\n",
       "      <td>0.056604</td>\n",
       "      <td>0.056604</td>\n",
       "      <td>0.098039</td>\n",
       "      <td>54.666667</td>\n",
       "      <td>54.0</td>\n",
       "    </tr>\n",
       "    <tr>\n",
       "      <th>203</th>\n",
       "      <td>50.0</td>\n",
       "      <td>0</td>\n",
       "      <td>394.000000</td>\n",
       "      <td>1</td>\n",
       "      <td>1</td>\n",
       "      <td>0.0</td>\n",
       "      <td>2</td>\n",
       "      <td>0.0</td>\n",
       "      <td>0</td>\n",
       "      <td>0</td>\n",
       "      <td>62.0</td>\n",
       "      <td>56.0</td>\n",
       "      <td>0.107143</td>\n",
       "      <td>0.127273</td>\n",
       "      <td>0.169811</td>\n",
       "      <td>57.000000</td>\n",
       "      <td>55.8</td>\n",
       "    </tr>\n",
       "    <tr>\n",
       "      <th>204</th>\n",
       "      <td>45.0</td>\n",
       "      <td>0</td>\n",
       "      <td>407.381188</td>\n",
       "      <td>7</td>\n",
       "      <td>3</td>\n",
       "      <td>0.0</td>\n",
       "      <td>3</td>\n",
       "      <td>-1.0</td>\n",
       "      <td>0</td>\n",
       "      <td>0</td>\n",
       "      <td>83.0</td>\n",
       "      <td>62.0</td>\n",
       "      <td>0.338710</td>\n",
       "      <td>0.566038</td>\n",
       "      <td>0.566038</td>\n",
       "      <td>67.000000</td>\n",
       "      <td>61.8</td>\n",
       "    </tr>\n",
       "    <tr>\n",
       "      <th>205</th>\n",
       "      <td>56.0</td>\n",
       "      <td>1</td>\n",
       "      <td>404.000000</td>\n",
       "      <td>1</td>\n",
       "      <td>1</td>\n",
       "      <td>0.0</td>\n",
       "      <td>1</td>\n",
       "      <td>-1.0</td>\n",
       "      <td>0</td>\n",
       "      <td>0</td>\n",
       "      <td>65.0</td>\n",
       "      <td>83.0</td>\n",
       "      <td>-0.216867</td>\n",
       "      <td>0.160714</td>\n",
       "      <td>0.181818</td>\n",
       "      <td>70.000000</td>\n",
       "      <td>63.8</td>\n",
       "    </tr>\n",
       "    <tr>\n",
       "      <th>206</th>\n",
       "      <td>40.0</td>\n",
       "      <td>0</td>\n",
       "      <td>398.000000</td>\n",
       "      <td>1</td>\n",
       "      <td>1</td>\n",
       "      <td>0.0</td>\n",
       "      <td>1</td>\n",
       "      <td>-1.0</td>\n",
       "      <td>0</td>\n",
       "      <td>0</td>\n",
       "      <td>52.0</td>\n",
       "      <td>65.0</td>\n",
       "      <td>-0.200000</td>\n",
       "      <td>-0.161290</td>\n",
       "      <td>-0.018868</td>\n",
       "      <td>66.666667</td>\n",
       "      <td>63.6</td>\n",
       "    </tr>\n",
       "  </tbody>\n",
       "</table>\n",
       "<p>207 rows × 17 columns</p>\n",
       "</div>"
      ],
      "text/plain": [
       "         y  soldout        kcal  remarks  event  payday  weather  \\\n",
       "0     90.0        0  407.381188        1      1     0.0        1   \n",
       "1    101.0        1  407.381188        1      1     0.0        1   \n",
       "2    118.0        0  407.381188        1      1     0.0        1   \n",
       "3    120.0        1  407.381188        1      1     0.0        1   \n",
       "4    130.0        1  407.381188        1      1     0.0        1   \n",
       "..     ...      ...         ...      ...    ...     ...      ...   \n",
       "202   59.0        1  408.000000        1      1     0.0        2   \n",
       "203   50.0        0  394.000000        1      1     0.0        2   \n",
       "204   45.0        0  407.381188        7      3     0.0        3   \n",
       "205   56.0        1  404.000000        1      1     0.0        1   \n",
       "206   40.0        0  398.000000        1      1     0.0        1   \n",
       "\n",
       "     precipitation  curry  curry_and_fun  shift_y  shift_2y  pcf_change1  \\\n",
       "0             -1.0      0              0     78.0      78.0          NaN   \n",
       "1             -1.0      0              0     78.0      78.0     0.000000   \n",
       "2             -1.0      0              0     78.0      78.0     0.000000   \n",
       "3             -1.0      0              0     78.0      78.0     0.000000   \n",
       "4             -1.0      0              0     78.0      78.0     0.000000   \n",
       "..             ...    ...            ...      ...       ...          ...   \n",
       "202            0.0      0              0     56.0      53.0     0.056604   \n",
       "203            0.0      0              0     62.0      56.0     0.107143   \n",
       "204           -1.0      0              0     83.0      62.0     0.338710   \n",
       "205           -1.0      0              0     65.0      83.0    -0.216867   \n",
       "206           -1.0      0              0     52.0      65.0    -0.200000   \n",
       "\n",
       "     pcf_change3  pcf_change5  rolling_mean3  rolling_mean5  \n",
       "0            NaN          NaN            NaN            NaN  \n",
       "1            NaN          NaN            NaN            NaN  \n",
       "2            NaN          NaN      78.000000            NaN  \n",
       "3       0.000000          NaN      78.000000            NaN  \n",
       "4       0.000000          NaN      78.000000           78.0  \n",
       "..           ...          ...            ...            ...  \n",
       "202     0.056604     0.098039      54.666667           54.0  \n",
       "203     0.127273     0.169811      57.000000           55.8  \n",
       "204     0.566038     0.566038      67.000000           61.8  \n",
       "205     0.160714     0.181818      70.000000           63.8  \n",
       "206    -0.161290    -0.018868      66.666667           63.6  \n",
       "\n",
       "[207 rows x 17 columns]"
      ]
     },
     "execution_count": 17,
     "metadata": {},
     "output_type": "execute_result"
    }
   ],
   "source": [
    "proc_data_train"
   ]
  },
  {
   "cell_type": "code",
   "execution_count": 18,
   "id": "f1e3e014-7a99-4bc1-9aca-15901d8517c0",
   "metadata": {},
   "outputs": [],
   "source": [
    "# shiftで前半30個くらいのyのデータが全部同じ値なので、学習からはずす\n",
    "# .drop(df.index[])で行削除ができるが、該当するindex名を全て削除してしまうため、testデータのindexも削除されてしまう。\n",
    "# なので、train と testに分割してからtrainに対して実施する(全データconcatしてる状態でやるとtestデータが消える)\n",
    "proc_data_train.drop(proc_data.index[:len(test)], inplace = True, axis = 'index')"
   ]
  },
  {
   "cell_type": "code",
   "execution_count": 19,
   "id": "3ce56f90-38b1-4a01-a8e3-af0939c5cd45",
   "metadata": {},
   "outputs": [
    {
     "data": {
      "text/html": [
       "<div>\n",
       "<style scoped>\n",
       "    .dataframe tbody tr th:only-of-type {\n",
       "        vertical-align: middle;\n",
       "    }\n",
       "\n",
       "    .dataframe tbody tr th {\n",
       "        vertical-align: top;\n",
       "    }\n",
       "\n",
       "    .dataframe thead th {\n",
       "        text-align: right;\n",
       "    }\n",
       "</style>\n",
       "<table border=\"1\" class=\"dataframe\">\n",
       "  <thead>\n",
       "    <tr style=\"text-align: right;\">\n",
       "      <th></th>\n",
       "      <th>y</th>\n",
       "      <th>soldout</th>\n",
       "      <th>kcal</th>\n",
       "      <th>remarks</th>\n",
       "      <th>event</th>\n",
       "      <th>payday</th>\n",
       "      <th>weather</th>\n",
       "      <th>precipitation</th>\n",
       "      <th>curry</th>\n",
       "      <th>curry_and_fun</th>\n",
       "      <th>shift_y</th>\n",
       "      <th>shift_2y</th>\n",
       "      <th>pcf_change1</th>\n",
       "      <th>pcf_change3</th>\n",
       "      <th>pcf_change5</th>\n",
       "      <th>rolling_mean3</th>\n",
       "      <th>rolling_mean5</th>\n",
       "    </tr>\n",
       "  </thead>\n",
       "  <tbody>\n",
       "    <tr>\n",
       "      <th>40</th>\n",
       "      <td>92.0</td>\n",
       "      <td>1</td>\n",
       "      <td>418.0</td>\n",
       "      <td>2</td>\n",
       "      <td>1</td>\n",
       "      <td>0.0</td>\n",
       "      <td>1</td>\n",
       "      <td>-1.0</td>\n",
       "      <td>1</td>\n",
       "      <td>0</td>\n",
       "      <td>90.0</td>\n",
       "      <td>78.0</td>\n",
       "      <td>0.153846</td>\n",
       "      <td>0.153846</td>\n",
       "      <td>0.153846</td>\n",
       "      <td>82.000000</td>\n",
       "      <td>80.4</td>\n",
       "    </tr>\n",
       "    <tr>\n",
       "      <th>41</th>\n",
       "      <td>126.0</td>\n",
       "      <td>1</td>\n",
       "      <td>415.0</td>\n",
       "      <td>1</td>\n",
       "      <td>1</td>\n",
       "      <td>0.0</td>\n",
       "      <td>1</td>\n",
       "      <td>-1.0</td>\n",
       "      <td>0</td>\n",
       "      <td>0</td>\n",
       "      <td>101.0</td>\n",
       "      <td>90.0</td>\n",
       "      <td>0.122222</td>\n",
       "      <td>0.294872</td>\n",
       "      <td>0.294872</td>\n",
       "      <td>89.666667</td>\n",
       "      <td>85.0</td>\n",
       "    </tr>\n",
       "    <tr>\n",
       "      <th>42</th>\n",
       "      <td>120.0</td>\n",
       "      <td>0</td>\n",
       "      <td>445.0</td>\n",
       "      <td>1</td>\n",
       "      <td>1</td>\n",
       "      <td>0.0</td>\n",
       "      <td>1</td>\n",
       "      <td>-1.0</td>\n",
       "      <td>0</td>\n",
       "      <td>0</td>\n",
       "      <td>118.0</td>\n",
       "      <td>101.0</td>\n",
       "      <td>0.168317</td>\n",
       "      <td>0.512821</td>\n",
       "      <td>0.512821</td>\n",
       "      <td>103.000000</td>\n",
       "      <td>93.0</td>\n",
       "    </tr>\n",
       "    <tr>\n",
       "      <th>43</th>\n",
       "      <td>121.0</td>\n",
       "      <td>1</td>\n",
       "      <td>450.0</td>\n",
       "      <td>1</td>\n",
       "      <td>1</td>\n",
       "      <td>0.0</td>\n",
       "      <td>1</td>\n",
       "      <td>-1.0</td>\n",
       "      <td>0</td>\n",
       "      <td>0</td>\n",
       "      <td>120.0</td>\n",
       "      <td>118.0</td>\n",
       "      <td>0.016949</td>\n",
       "      <td>0.333333</td>\n",
       "      <td>0.538462</td>\n",
       "      <td>113.000000</td>\n",
       "      <td>101.4</td>\n",
       "    </tr>\n",
       "    <tr>\n",
       "      <th>44</th>\n",
       "      <td>105.0</td>\n",
       "      <td>1</td>\n",
       "      <td>448.0</td>\n",
       "      <td>1</td>\n",
       "      <td>1</td>\n",
       "      <td>0.0</td>\n",
       "      <td>2</td>\n",
       "      <td>-1.0</td>\n",
       "      <td>0</td>\n",
       "      <td>0</td>\n",
       "      <td>130.0</td>\n",
       "      <td>120.0</td>\n",
       "      <td>0.083333</td>\n",
       "      <td>0.287129</td>\n",
       "      <td>0.666667</td>\n",
       "      <td>122.666667</td>\n",
       "      <td>111.8</td>\n",
       "    </tr>\n",
       "    <tr>\n",
       "      <th>45</th>\n",
       "      <td>92.0</td>\n",
       "      <td>1</td>\n",
       "      <td>460.0</td>\n",
       "      <td>1</td>\n",
       "      <td>1</td>\n",
       "      <td>0.0</td>\n",
       "      <td>1</td>\n",
       "      <td>-1.0</td>\n",
       "      <td>0</td>\n",
       "      <td>0</td>\n",
       "      <td>135.0</td>\n",
       "      <td>130.0</td>\n",
       "      <td>0.038462</td>\n",
       "      <td>0.144068</td>\n",
       "      <td>0.500000</td>\n",
       "      <td>128.333333</td>\n",
       "      <td>120.8</td>\n",
       "    </tr>\n",
       "    <tr>\n",
       "      <th>46</th>\n",
       "      <td>139.0</td>\n",
       "      <td>1</td>\n",
       "      <td>445.0</td>\n",
       "      <td>1</td>\n",
       "      <td>1</td>\n",
       "      <td>0.0</td>\n",
       "      <td>3</td>\n",
       "      <td>-1.0</td>\n",
       "      <td>1</td>\n",
       "      <td>0</td>\n",
       "      <td>145.0</td>\n",
       "      <td>135.0</td>\n",
       "      <td>0.074074</td>\n",
       "      <td>0.208333</td>\n",
       "      <td>0.435644</td>\n",
       "      <td>136.666667</td>\n",
       "      <td>129.6</td>\n",
       "    </tr>\n",
       "    <tr>\n",
       "      <th>47</th>\n",
       "      <td>121.0</td>\n",
       "      <td>1</td>\n",
       "      <td>430.0</td>\n",
       "      <td>1</td>\n",
       "      <td>1</td>\n",
       "      <td>0.0</td>\n",
       "      <td>5</td>\n",
       "      <td>0.0</td>\n",
       "      <td>0</td>\n",
       "      <td>0</td>\n",
       "      <td>140.0</td>\n",
       "      <td>145.0</td>\n",
       "      <td>-0.034483</td>\n",
       "      <td>0.076923</td>\n",
       "      <td>0.186441</td>\n",
       "      <td>140.000000</td>\n",
       "      <td>134.0</td>\n",
       "    </tr>\n",
       "    <tr>\n",
       "      <th>48</th>\n",
       "      <td>126.0</td>\n",
       "      <td>1</td>\n",
       "      <td>420.0</td>\n",
       "      <td>1</td>\n",
       "      <td>1</td>\n",
       "      <td>0.0</td>\n",
       "      <td>1</td>\n",
       "      <td>-1.0</td>\n",
       "      <td>0</td>\n",
       "      <td>0</td>\n",
       "      <td>151.0</td>\n",
       "      <td>140.0</td>\n",
       "      <td>0.078571</td>\n",
       "      <td>0.118519</td>\n",
       "      <td>0.258333</td>\n",
       "      <td>145.333333</td>\n",
       "      <td>140.2</td>\n",
       "    </tr>\n",
       "    <tr>\n",
       "      <th>49</th>\n",
       "      <td>111.0</td>\n",
       "      <td>1</td>\n",
       "      <td>435.0</td>\n",
       "      <td>1</td>\n",
       "      <td>1</td>\n",
       "      <td>0.0</td>\n",
       "      <td>2</td>\n",
       "      <td>-1.0</td>\n",
       "      <td>0</td>\n",
       "      <td>0</td>\n",
       "      <td>116.0</td>\n",
       "      <td>151.0</td>\n",
       "      <td>-0.231788</td>\n",
       "      <td>-0.200000</td>\n",
       "      <td>-0.107692</td>\n",
       "      <td>135.666667</td>\n",
       "      <td>137.4</td>\n",
       "    </tr>\n",
       "    <tr>\n",
       "      <th>50</th>\n",
       "      <td>91.0</td>\n",
       "      <td>1</td>\n",
       "      <td>425.0</td>\n",
       "      <td>1</td>\n",
       "      <td>1</td>\n",
       "      <td>0.0</td>\n",
       "      <td>3</td>\n",
       "      <td>-1.0</td>\n",
       "      <td>0</td>\n",
       "      <td>0</td>\n",
       "      <td>151.0</td>\n",
       "      <td>116.0</td>\n",
       "      <td>0.301724</td>\n",
       "      <td>0.078571</td>\n",
       "      <td>0.118519</td>\n",
       "      <td>139.333333</td>\n",
       "      <td>140.6</td>\n",
       "    </tr>\n",
       "    <tr>\n",
       "      <th>51</th>\n",
       "      <td>137.0</td>\n",
       "      <td>0</td>\n",
       "      <td>423.0</td>\n",
       "      <td>1</td>\n",
       "      <td>1</td>\n",
       "      <td>1.0</td>\n",
       "      <td>2</td>\n",
       "      <td>-1.0</td>\n",
       "      <td>0</td>\n",
       "      <td>0</td>\n",
       "      <td>153.0</td>\n",
       "      <td>151.0</td>\n",
       "      <td>0.013245</td>\n",
       "      <td>0.013245</td>\n",
       "      <td>0.055172</td>\n",
       "      <td>140.000000</td>\n",
       "      <td>142.2</td>\n",
       "    </tr>\n",
       "    <tr>\n",
       "      <th>52</th>\n",
       "      <td>111.0</td>\n",
       "      <td>0</td>\n",
       "      <td>415.0</td>\n",
       "      <td>1</td>\n",
       "      <td>1</td>\n",
       "      <td>0.0</td>\n",
       "      <td>2</td>\n",
       "      <td>-1.0</td>\n",
       "      <td>0</td>\n",
       "      <td>0</td>\n",
       "      <td>151.0</td>\n",
       "      <td>153.0</td>\n",
       "      <td>-0.013072</td>\n",
       "      <td>0.301724</td>\n",
       "      <td>0.078571</td>\n",
       "      <td>151.666667</td>\n",
       "      <td>144.4</td>\n",
       "    </tr>\n",
       "    <tr>\n",
       "      <th>53</th>\n",
       "      <td>84.0</td>\n",
       "      <td>0</td>\n",
       "      <td>438.0</td>\n",
       "      <td>1</td>\n",
       "      <td>1</td>\n",
       "      <td>0.0</td>\n",
       "      <td>2</td>\n",
       "      <td>-1.0</td>\n",
       "      <td>0</td>\n",
       "      <td>0</td>\n",
       "      <td>171.0</td>\n",
       "      <td>151.0</td>\n",
       "      <td>0.132450</td>\n",
       "      <td>0.132450</td>\n",
       "      <td>0.132450</td>\n",
       "      <td>158.333333</td>\n",
       "      <td>148.4</td>\n",
       "    </tr>\n",
       "    <tr>\n",
       "      <th>54</th>\n",
       "      <td>86.0</td>\n",
       "      <td>1</td>\n",
       "      <td>432.0</td>\n",
       "      <td>1</td>\n",
       "      <td>1</td>\n",
       "      <td>0.0</td>\n",
       "      <td>6</td>\n",
       "      <td>0.5</td>\n",
       "      <td>0</td>\n",
       "      <td>0</td>\n",
       "      <td>134.0</td>\n",
       "      <td>171.0</td>\n",
       "      <td>-0.216374</td>\n",
       "      <td>-0.124183</td>\n",
       "      <td>0.155172</td>\n",
       "      <td>152.000000</td>\n",
       "      <td>152.0</td>\n",
       "    </tr>\n",
       "    <tr>\n",
       "      <th>55</th>\n",
       "      <td>137.0</td>\n",
       "      <td>1</td>\n",
       "      <td>416.0</td>\n",
       "      <td>1</td>\n",
       "      <td>1</td>\n",
       "      <td>0.0</td>\n",
       "      <td>3</td>\n",
       "      <td>-1.0</td>\n",
       "      <td>0</td>\n",
       "      <td>0</td>\n",
       "      <td>165.0</td>\n",
       "      <td>134.0</td>\n",
       "      <td>0.231343</td>\n",
       "      <td>0.092715</td>\n",
       "      <td>0.092715</td>\n",
       "      <td>156.666667</td>\n",
       "      <td>154.8</td>\n",
       "    </tr>\n",
       "    <tr>\n",
       "      <th>56</th>\n",
       "      <td>99.0</td>\n",
       "      <td>0</td>\n",
       "      <td>426.0</td>\n",
       "      <td>1</td>\n",
       "      <td>1</td>\n",
       "      <td>0.0</td>\n",
       "      <td>3</td>\n",
       "      <td>-1.0</td>\n",
       "      <td>0</td>\n",
       "      <td>0</td>\n",
       "      <td>155.0</td>\n",
       "      <td>165.0</td>\n",
       "      <td>-0.060606</td>\n",
       "      <td>-0.093567</td>\n",
       "      <td>0.013072</td>\n",
       "      <td>151.333333</td>\n",
       "      <td>155.2</td>\n",
       "    </tr>\n",
       "    <tr>\n",
       "      <th>57</th>\n",
       "      <td>113.0</td>\n",
       "      <td>0</td>\n",
       "      <td>405.0</td>\n",
       "      <td>1</td>\n",
       "      <td>1</td>\n",
       "      <td>0.0</td>\n",
       "      <td>4</td>\n",
       "      <td>-1.0</td>\n",
       "      <td>0</td>\n",
       "      <td>0</td>\n",
       "      <td>157.0</td>\n",
       "      <td>155.0</td>\n",
       "      <td>0.012903</td>\n",
       "      <td>0.171642</td>\n",
       "      <td>0.039735</td>\n",
       "      <td>159.000000</td>\n",
       "      <td>156.4</td>\n",
       "    </tr>\n",
       "    <tr>\n",
       "      <th>58</th>\n",
       "      <td>85.0</td>\n",
       "      <td>1</td>\n",
       "      <td>426.0</td>\n",
       "      <td>1</td>\n",
       "      <td>1</td>\n",
       "      <td>0.0</td>\n",
       "      <td>4</td>\n",
       "      <td>-1.0</td>\n",
       "      <td>0</td>\n",
       "      <td>0</td>\n",
       "      <td>109.0</td>\n",
       "      <td>157.0</td>\n",
       "      <td>-0.305732</td>\n",
       "      <td>-0.339394</td>\n",
       "      <td>-0.362573</td>\n",
       "      <td>140.333333</td>\n",
       "      <td>144.0</td>\n",
       "    </tr>\n",
       "    <tr>\n",
       "      <th>59</th>\n",
       "      <td>113.0</td>\n",
       "      <td>0</td>\n",
       "      <td>410.0</td>\n",
       "      <td>3</td>\n",
       "      <td>2</td>\n",
       "      <td>0.0</td>\n",
       "      <td>1</td>\n",
       "      <td>-1.0</td>\n",
       "      <td>1</td>\n",
       "      <td>0</td>\n",
       "      <td>111.0</td>\n",
       "      <td>109.0</td>\n",
       "      <td>0.018349</td>\n",
       "      <td>-0.283871</td>\n",
       "      <td>-0.171642</td>\n",
       "      <td>125.666667</td>\n",
       "      <td>139.4</td>\n",
       "    </tr>\n",
       "  </tbody>\n",
       "</table>\n",
       "</div>"
      ],
      "text/plain": [
       "        y  soldout   kcal  remarks  event  payday  weather  precipitation  \\\n",
       "40   92.0        1  418.0        2      1     0.0        1           -1.0   \n",
       "41  126.0        1  415.0        1      1     0.0        1           -1.0   \n",
       "42  120.0        0  445.0        1      1     0.0        1           -1.0   \n",
       "43  121.0        1  450.0        1      1     0.0        1           -1.0   \n",
       "44  105.0        1  448.0        1      1     0.0        2           -1.0   \n",
       "45   92.0        1  460.0        1      1     0.0        1           -1.0   \n",
       "46  139.0        1  445.0        1      1     0.0        3           -1.0   \n",
       "47  121.0        1  430.0        1      1     0.0        5            0.0   \n",
       "48  126.0        1  420.0        1      1     0.0        1           -1.0   \n",
       "49  111.0        1  435.0        1      1     0.0        2           -1.0   \n",
       "50   91.0        1  425.0        1      1     0.0        3           -1.0   \n",
       "51  137.0        0  423.0        1      1     1.0        2           -1.0   \n",
       "52  111.0        0  415.0        1      1     0.0        2           -1.0   \n",
       "53   84.0        0  438.0        1      1     0.0        2           -1.0   \n",
       "54   86.0        1  432.0        1      1     0.0        6            0.5   \n",
       "55  137.0        1  416.0        1      1     0.0        3           -1.0   \n",
       "56   99.0        0  426.0        1      1     0.0        3           -1.0   \n",
       "57  113.0        0  405.0        1      1     0.0        4           -1.0   \n",
       "58   85.0        1  426.0        1      1     0.0        4           -1.0   \n",
       "59  113.0        0  410.0        3      2     0.0        1           -1.0   \n",
       "\n",
       "    curry  curry_and_fun  shift_y  shift_2y  pcf_change1  pcf_change3  \\\n",
       "40      1              0     90.0      78.0     0.153846     0.153846   \n",
       "41      0              0    101.0      90.0     0.122222     0.294872   \n",
       "42      0              0    118.0     101.0     0.168317     0.512821   \n",
       "43      0              0    120.0     118.0     0.016949     0.333333   \n",
       "44      0              0    130.0     120.0     0.083333     0.287129   \n",
       "45      0              0    135.0     130.0     0.038462     0.144068   \n",
       "46      1              0    145.0     135.0     0.074074     0.208333   \n",
       "47      0              0    140.0     145.0    -0.034483     0.076923   \n",
       "48      0              0    151.0     140.0     0.078571     0.118519   \n",
       "49      0              0    116.0     151.0    -0.231788    -0.200000   \n",
       "50      0              0    151.0     116.0     0.301724     0.078571   \n",
       "51      0              0    153.0     151.0     0.013245     0.013245   \n",
       "52      0              0    151.0     153.0    -0.013072     0.301724   \n",
       "53      0              0    171.0     151.0     0.132450     0.132450   \n",
       "54      0              0    134.0     171.0    -0.216374    -0.124183   \n",
       "55      0              0    165.0     134.0     0.231343     0.092715   \n",
       "56      0              0    155.0     165.0    -0.060606    -0.093567   \n",
       "57      0              0    157.0     155.0     0.012903     0.171642   \n",
       "58      0              0    109.0     157.0    -0.305732    -0.339394   \n",
       "59      1              0    111.0     109.0     0.018349    -0.283871   \n",
       "\n",
       "    pcf_change5  rolling_mean3  rolling_mean5  \n",
       "40     0.153846      82.000000           80.4  \n",
       "41     0.294872      89.666667           85.0  \n",
       "42     0.512821     103.000000           93.0  \n",
       "43     0.538462     113.000000          101.4  \n",
       "44     0.666667     122.666667          111.8  \n",
       "45     0.500000     128.333333          120.8  \n",
       "46     0.435644     136.666667          129.6  \n",
       "47     0.186441     140.000000          134.0  \n",
       "48     0.258333     145.333333          140.2  \n",
       "49    -0.107692     135.666667          137.4  \n",
       "50     0.118519     139.333333          140.6  \n",
       "51     0.055172     140.000000          142.2  \n",
       "52     0.078571     151.666667          144.4  \n",
       "53     0.132450     158.333333          148.4  \n",
       "54     0.155172     152.000000          152.0  \n",
       "55     0.092715     156.666667          154.8  \n",
       "56     0.013072     151.333333          155.2  \n",
       "57     0.039735     159.000000          156.4  \n",
       "58    -0.362573     140.333333          144.0  \n",
       "59    -0.171642     125.666667          139.4  "
      ]
     },
     "execution_count": 19,
     "metadata": {},
     "output_type": "execute_result"
    }
   ],
   "source": [
    "proc_data_train.head(20)"
   ]
  },
  {
   "cell_type": "markdown",
   "id": "f06180ce-c424-4eec-b9ca-f84e7ae5cce3",
   "metadata": {},
   "source": [
    "## cv"
   ]
  },
  {
   "cell_type": "code",
   "execution_count": 20,
   "id": "8bc44932-ba32-42f8-9c78-a80cca960fa2",
   "metadata": {},
   "outputs": [
    {
     "name": "stdout",
     "output_type": "stream",
     "text": [
      "(167, 16) (167,)\n"
     ]
    }
   ],
   "source": [
    "X = proc_data_train.drop(columns = 'y')\n",
    "y = proc_data_train['y']\n",
    "print(X.shape, y.shape)\n",
    "\n",
    "X_index = X.index"
   ]
  },
  {
   "cell_type": "code",
   "execution_count": 21,
   "id": "68c2c4d0-00e8-4290-8e12-cbdb9169e617",
   "metadata": {},
   "outputs": [],
   "source": [
    "X = X.reset_index(drop = True)\n",
    "y = y.reset_index(drop = True)"
   ]
  },
  {
   "cell_type": "code",
   "execution_count": 22,
   "id": "b84eb340-a576-4768-bd8c-b7cbb154863e",
   "metadata": {},
   "outputs": [],
   "source": [
    "folds = TimeSeriesSplit(n_splits = 5, test_size = 20)\n",
    "cv = list(folds.split(X, y))"
   ]
  },
  {
   "cell_type": "code",
   "execution_count": 23,
   "id": "acabf17a-f37a-48cb-8750-5ab395dc8afd",
   "metadata": {},
   "outputs": [
    {
     "name": "stdout",
     "output_type": "stream",
     "text": [
      "-------------------------------\n",
      "model No:  0\n",
      "-------------------------------\n",
      "model No:  1\n",
      "-------------------------------\n",
      "model No:  2\n",
      "-------------------------------\n",
      "model No:  3\n",
      "-------------------------------\n",
      "model No:  4\n"
     ]
    }
   ],
   "source": [
    "folds = TimeSeriesSplit(n_splits = 5, test_size = 20)\n",
    "\n",
    "\n",
    "\n",
    "train_score = []\n",
    "valid_score = []\n",
    "models = []\n",
    "train_pred_vs_data_df_list = []\n",
    "valid_pred_vs_data_df_list = []\n",
    "\n",
    "for i, (train_index, valid_index) in enumerate(folds.split(proc_data_train)):\n",
    "    \n",
    "    X_train, X_valid = X.iloc[train_index], X.iloc[valid_index]\n",
    "    y_train, y_valid = y.iloc[train_index], y.iloc[valid_index]\n",
    "    \n",
    "    print('-------------------------------')\n",
    "    print('model No: ', i)\n",
    "    \n",
    "    model = RF(n_estimators=100,max_depth=4,random_state=777)\n",
    "    model.fit(X_train, y_train)\n",
    "    \n",
    "    # モデル評価\n",
    "    # trainのモデル評価\n",
    "    train_pred = model.predict(X_train)# arrayで返ってくる\n",
    "    train_pred_vs_data_df = pd.concat([y_train, pd.Series(train_pred,index = train_index)],\n",
    "                                      axis = 1)# 真値と予測値のｄｆ作成\n",
    "    train_pred_vs_data_df.columns = ['true','pred']\n",
    "    train_pred_vs_data_df_list.append(train_pred_vs_data_df)\n",
    "    \n",
    "    # validのモデル評価\n",
    "    valid_pred = model.predict(X_valid)\n",
    "    valid_pred_vs_data_df = pd.concat([y_valid, pd.Series(valid_pred, index = valid_index)],\n",
    "                                      axis = 1)\n",
    "    valid_pred_vs_data_df.columns = ['true','pred']\n",
    "    valid_pred_vs_data_df_list.append(valid_pred_vs_data_df)\n",
    "    \n",
    "    train_score.append(np.sqrt(mean_squared_error(train_pred_vs_data_df['true'],train_pred_vs_data_df['pred'])))\n",
    "    valid_score.append(np.sqrt(mean_squared_error(valid_pred_vs_data_df['true'],valid_pred_vs_data_df['pred'])))\n",
    "    \n",
    "    models.append(model)\n",
    "    \n",
    "   "
   ]
  },
  {
   "cell_type": "code",
   "execution_count": 24,
   "id": "6582dc47-8c53-4da7-844f-6896fa31e690",
   "metadata": {},
   "outputs": [
    {
     "data": {
      "image/png": "[encoded data removed]",
      "text/plain": [
       "<Figure size 432x288 with 1 Axes>"
      ]
     },
     "metadata": {
      "needs_background": "light"
     },
     "output_type": "display_data"
    },
    {
     "data": {
      "image/png": "[encoded data removed]",
      "text/plain": [
       "<Figure size 432x288 with 1 Axes>"
      ]
     },
     "metadata": {
      "needs_background": "light"
     },
     "output_type": "display_data"
    },
    {
     "data": {
      "image/png": "[encoded data removed]",
      "text/plain": [
       "<Figure size 432x288 with 1 Axes>"
      ]
     },
     "metadata": {
      "needs_background": "light"
     },
     "output_type": "display_data"
    },
    {
     "data": {
      "image/png": "[encoded data removed]",
      "text/plain": [
       "<Figure size 432x288 with 1 Axes>"
      ]
     },
     "metadata": {
      "needs_background": "light"
     },
     "output_type": "display_data"
    },
    {
     "data": {
      "image/png": "[encoded data removed]",
      "text/plain": [
       "<Figure size 432x288 with 1 Axes>"
      ]
     },
     "metadata": {
      "needs_background": "light"
     },
     "output_type": "display_data"
    }
   ],
   "source": [
    "for i in range(len(train_pred_vs_data_df_list)):\n",
    "    sns.scatterplot(x = 'true', y = 'pred', data = train_pred_vs_data_df_list[i])\n",
    "    plt.title(label = 'model:'+str(i))\n",
    "    plt.show()\n"
   ]
  },
  {
   "cell_type": "code",
   "execution_count": 25,
   "id": "ad7fd6b4-03a5-4317-873d-52f82def92b4",
   "metadata": {},
   "outputs": [
    {
     "data": {
      "image/png": "[encoded data removed]",
      "text/plain": [
       "<Figure size 432x288 with 1 Axes>"
      ]
     },
     "metadata": {
      "needs_background": "light"
     },
     "output_type": "display_data"
    },
    {
     "data": {
      "image/png": "[encoded data removed]",
      "text/plain": [
       "<Figure size 432x288 with 1 Axes>"
      ]
     },
     "metadata": {
      "needs_background": "light"
     },
     "output_type": "display_data"
    },
    {
     "data": {
      "image/png": "[encoded data removed]",
      "text/plain": [
       "<Figure size 432x288 with 1 Axes>"
      ]
     },
     "metadata": {
      "needs_background": "light"
     },
     "output_type": "display_data"
    },
    {
     "data": {
      "image/png": "[encoded data removed]",
      "text/plain": [
       "<Figure size 432x288 with 1 Axes>"
      ]
     },
     "metadata": {
      "needs_background": "light"
     },
     "output_type": "display_data"
    },
    {
     "data": {
      "image/png": "[encoded data removed]",
      "text/plain": [
       "<Figure size 432x288 with 1 Axes>"
      ]
     },
     "metadata": {
      "needs_background": "light"
     },
     "output_type": "display_data"
    }
   ],
   "source": [
    "for i in range(len(valid_pred_vs_data_df_list)):\n",
    "    sns.scatterplot(x = 'true', y = 'pred', data = valid_pred_vs_data_df_list[i])\n",
    "    plt.title(label = 'model:'+str(i))\n",
    "    plt.show()\n"
   ]
  },
  {
   "cell_type": "code",
   "execution_count": 26,
   "id": "9545678d-fe9b-4d0a-b9ca-e801d547becf",
   "metadata": {},
   "outputs": [
    {
     "data": {
      "text/plain": [
       "array([  0,   1,   2,   3,   4,   5,   6,   7,   8,   9,  10,  11,  12,\n",
       "        13,  14,  15,  16,  17,  18,  19,  20,  21,  22,  23,  24,  25,\n",
       "        26,  27,  28,  29,  30,  31,  32,  33,  34,  35,  36,  37,  38,\n",
       "        39,  40,  41,  42,  43,  44,  45,  46,  47,  48,  49,  50,  51,\n",
       "        52,  53,  54,  55,  56,  57,  58,  59,  60,  61,  62,  63,  64,\n",
       "        65,  66,  67,  68,  69,  70,  71,  72,  73,  74,  75,  76,  77,\n",
       "        78,  79,  80,  81,  82,  83,  84,  85,  86,  87,  88,  89,  90,\n",
       "        91,  92,  93,  94,  95,  96,  97,  98,  99, 100, 101, 102, 103,\n",
       "       104, 105, 106, 107, 108, 109, 110, 111, 112, 113, 114, 115, 116,\n",
       "       117, 118, 119, 120, 121, 122, 123, 124, 125, 126, 127, 128, 129,\n",
       "       130, 131, 132, 133, 134, 135, 136, 137, 138, 139, 140, 141, 142,\n",
       "       143, 144, 145, 146])"
      ]
     },
     "execution_count": 26,
     "metadata": {},
     "output_type": "execute_result"
    }
   ],
   "source": [
    "cv[4][0]"
   ]
  },
  {
   "cell_type": "code",
   "execution_count": 27,
   "id": "3b73696f-53ad-488d-8cd2-0ddeaa7459ef",
   "metadata": {
    "scrolled": true,
    "tags": []
   },
   "outputs": [
    {
     "data": {
      "text/plain": [
       "[     true        pred\n",
       " 67   47.0  106.354907\n",
       " 68   88.0   92.158320\n",
       " 69   59.0   94.483664\n",
       " 70   58.0   90.856933\n",
       " 71   73.0   86.896445\n",
       " 72   70.0   97.428278\n",
       " 73   64.0   97.541882\n",
       " 74   58.0   96.282390\n",
       " 75  126.0  100.361857\n",
       " 76   70.0   87.976552\n",
       " 77   71.0   92.606298\n",
       " 78  104.0   95.973915\n",
       " 79   54.0  101.296865\n",
       " 80   65.0   95.009411\n",
       " 81   77.0   97.889613\n",
       " 82   79.0   97.963423\n",
       " 83   74.0  102.311005\n",
       " 84   64.0  100.666526\n",
       " 85  119.0  107.164366\n",
       " 86   74.0   92.910654,\n",
       "       true       pred\n",
       " 87    59.0  80.293466\n",
       " 88    47.0  70.824742\n",
       " 89    64.0  82.092251\n",
       " 90    93.0  72.539364\n",
       " 91    74.0  71.097832\n",
       " 92    56.0  72.178728\n",
       " 93    50.0  99.738493\n",
       " 94    72.0  71.762429\n",
       " 95   121.0  90.834258\n",
       " 96    76.0  74.474216\n",
       " 97    63.0  73.592047\n",
       " 98    66.0  74.301131\n",
       " 99    56.0  91.503432\n",
       " 100   57.0  70.260412\n",
       " 101   72.0  75.053624\n",
       " 102   61.0  73.319808\n",
       " 103   64.0  82.747517\n",
       " 104   49.0  71.323686\n",
       " 105   74.0  94.109351\n",
       " 106   65.0  69.687657,\n",
       "       true        pred\n",
       " 107   54.0   66.774697\n",
       " 108   50.0   78.091571\n",
       " 109   53.0   66.439518\n",
       " 110   63.0   68.659130\n",
       " 111   82.0   70.494149\n",
       " 112   56.0   68.657253\n",
       " 113   54.0   66.587103\n",
       " 114   48.0   65.991032\n",
       " 115  124.0  108.287169\n",
       " 116   65.0   67.483656\n",
       " 117   51.0   66.931831\n",
       " 118   53.0   69.527883\n",
       " 119   53.0   67.071203\n",
       " 120   55.0   67.736492\n",
       " 121   53.0   67.580678\n",
       " 122   56.0   68.688846\n",
       " 123   62.0   65.924788\n",
       " 124   83.0   67.320441\n",
       " 125   65.0   76.139629\n",
       " 126   52.0   78.314471,\n",
       "       true        pred\n",
       " 127   58.0   63.126837\n",
       " 128   60.0   64.247897\n",
       " 129   38.0   60.960847\n",
       " 130   75.0   62.587512\n",
       " 131   54.0   82.111100\n",
       " 132   58.0   71.745438\n",
       " 133   63.0   64.635495\n",
       " 134  129.0  100.553896\n",
       " 135   45.0   73.419168\n",
       " 136   40.0   66.829632\n",
       " 137   56.0   62.838859\n",
       " 138   53.0   65.935974\n",
       " 139   56.0   71.625020\n",
       " 140   54.0   61.485236\n",
       " 141  100.0   63.590599\n",
       " 142   55.0   61.110774\n",
       " 143   68.0   77.042068\n",
       " 144   62.0   61.761179\n",
       " 145   56.0   63.003233\n",
       " 146   39.0   60.670652,\n",
       "       true        pred\n",
       " 147   65.0   58.554781\n",
       " 148   68.0   66.516840\n",
       " 149   53.0   62.924820\n",
       " 150   54.0   61.260530\n",
       " 151   43.0   61.344880\n",
       " 152   68.0   58.321239\n",
       " 153   63.0   68.279996\n",
       " 154   54.0   68.892566\n",
       " 155   53.0   71.405440\n",
       " 156  115.0  109.107207\n",
       " 157   56.0   62.270294\n",
       " 158   49.0   66.869742\n",
       " 159   46.0   57.259433\n",
       " 160   45.0   58.920545\n",
       " 161   29.0   57.711314\n",
       " 162   59.0   63.156583\n",
       " 163   50.0   59.284003\n",
       " 164   45.0   70.142911\n",
       " 165   56.0   59.516806\n",
       " 166   40.0   58.097817]"
      ]
     },
     "execution_count": 27,
     "metadata": {},
     "output_type": "execute_result"
    }
   ],
   "source": [
    "valid_pred_vs_data_df_list"
   ]
  },
  {
   "cell_type": "code",
   "execution_count": 28,
   "id": "1c544953-33be-4207-8c23-019ed8e1acde",
   "metadata": {},
   "outputs": [
    {
     "data": {
      "text/plain": [
       "[<matplotlib.lines.Line2D at 0x7fb516ee7610>]"
      ]
     },
     "execution_count": 28,
     "metadata": {},
     "output_type": "execute_result"
    },
    {
     "data": {
      "image/png": "[encoded data removed]",
      "text/plain": [
       "<Figure size 432x288 with 1 Axes>"
      ]
     },
     "metadata": {
      "needs_background": "light"
     },
     "output_type": "display_data"
    }
   ],
   "source": [
    "plt.plot(valid_pred_vs_data_df_list[4]['true'])\n",
    "plt.plot(valid_pred_vs_data_df_list[4]['pred'])\n"
   ]
  },
  {
   "cell_type": "code",
   "execution_count": 29,
   "id": "1e4a6838-dc07-4fe4-8083-23e9aeac7645",
   "metadata": {
    "scrolled": true,
    "tags": []
   },
   "outputs": [
    {
     "data": {
      "text/plain": [
       "[     true        pred\n",
       " 67   47.0  106.354907\n",
       " 68   88.0   92.158320\n",
       " 69   59.0   94.483664\n",
       " 70   58.0   90.856933\n",
       " 71   73.0   86.896445\n",
       " 72   70.0   97.428278\n",
       " 73   64.0   97.541882\n",
       " 74   58.0   96.282390\n",
       " 75  126.0  100.361857\n",
       " 76   70.0   87.976552\n",
       " 77   71.0   92.606298\n",
       " 78  104.0   95.973915\n",
       " 79   54.0  101.296865\n",
       " 80   65.0   95.009411\n",
       " 81   77.0   97.889613\n",
       " 82   79.0   97.963423\n",
       " 83   74.0  102.311005\n",
       " 84   64.0  100.666526\n",
       " 85  119.0  107.164366\n",
       " 86   74.0   92.910654,\n",
       "       true       pred\n",
       " 87    59.0  80.293466\n",
       " 88    47.0  70.824742\n",
       " 89    64.0  82.092251\n",
       " 90    93.0  72.539364\n",
       " 91    74.0  71.097832\n",
       " 92    56.0  72.178728\n",
       " 93    50.0  99.738493\n",
       " 94    72.0  71.762429\n",
       " 95   121.0  90.834258\n",
       " 96    76.0  74.474216\n",
       " 97    63.0  73.592047\n",
       " 98    66.0  74.301131\n",
       " 99    56.0  91.503432\n",
       " 100   57.0  70.260412\n",
       " 101   72.0  75.053624\n",
       " 102   61.0  73.319808\n",
       " 103   64.0  82.747517\n",
       " 104   49.0  71.323686\n",
       " 105   74.0  94.109351\n",
       " 106   65.0  69.687657,\n",
       "       true        pred\n",
       " 107   54.0   66.774697\n",
       " 108   50.0   78.091571\n",
       " 109   53.0   66.439518\n",
       " 110   63.0   68.659130\n",
       " 111   82.0   70.494149\n",
       " 112   56.0   68.657253\n",
       " 113   54.0   66.587103\n",
       " 114   48.0   65.991032\n",
       " 115  124.0  108.287169\n",
       " 116   65.0   67.483656\n",
       " 117   51.0   66.931831\n",
       " 118   53.0   69.527883\n",
       " 119   53.0   67.071203\n",
       " 120   55.0   67.736492\n",
       " 121   53.0   67.580678\n",
       " 122   56.0   68.688846\n",
       " 123   62.0   65.924788\n",
       " 124   83.0   67.320441\n",
       " 125   65.0   76.139629\n",
       " 126   52.0   78.314471,\n",
       "       true        pred\n",
       " 127   58.0   63.126837\n",
       " 128   60.0   64.247897\n",
       " 129   38.0   60.960847\n",
       " 130   75.0   62.587512\n",
       " 131   54.0   82.111100\n",
       " 132   58.0   71.745438\n",
       " 133   63.0   64.635495\n",
       " 134  129.0  100.553896\n",
       " 135   45.0   73.419168\n",
       " 136   40.0   66.829632\n",
       " 137   56.0   62.838859\n",
       " 138   53.0   65.935974\n",
       " 139   56.0   71.625020\n",
       " 140   54.0   61.485236\n",
       " 141  100.0   63.590599\n",
       " 142   55.0   61.110774\n",
       " 143   68.0   77.042068\n",
       " 144   62.0   61.761179\n",
       " 145   56.0   63.003233\n",
       " 146   39.0   60.670652,\n",
       "       true        pred\n",
       " 147   65.0   58.554781\n",
       " 148   68.0   66.516840\n",
       " 149   53.0   62.924820\n",
       " 150   54.0   61.260530\n",
       " 151   43.0   61.344880\n",
       " 152   68.0   58.321239\n",
       " 153   63.0   68.279996\n",
       " 154   54.0   68.892566\n",
       " 155   53.0   71.405440\n",
       " 156  115.0  109.107207\n",
       " 157   56.0   62.270294\n",
       " 158   49.0   66.869742\n",
       " 159   46.0   57.259433\n",
       " 160   45.0   58.920545\n",
       " 161   29.0   57.711314\n",
       " 162   59.0   63.156583\n",
       " 163   50.0   59.284003\n",
       " 164   45.0   70.142911\n",
       " 165   56.0   59.516806\n",
       " 166   40.0   58.097817]"
      ]
     },
     "execution_count": 29,
     "metadata": {},
     "output_type": "execute_result"
    }
   ],
   "source": [
    "valid_pred_vs_data_df_list"
   ]
  },
  {
   "cell_type": "code",
   "execution_count": 30,
   "id": "804882af-9e61-4cc0-ba86-793460f47f1b",
   "metadata": {},
   "outputs": [
    {
     "data": {
      "text/plain": [
       "[12.106589924540062,\n",
       " 12.636353330566694,\n",
       " 12.899386243433197,\n",
       " 12.84024512690424,\n",
       " 13.207031479906783]"
      ]
     },
     "execution_count": 30,
     "metadata": {},
     "output_type": "execute_result"
    }
   ],
   "source": [
    "train_score"
   ]
  },
  {
   "cell_type": "code",
   "execution_count": 31,
   "id": "1c6c8239-bbf3-42fa-8811-439c1e554b1e",
   "metadata": {},
   "outputs": [
    {
     "data": {
      "text/plain": [
       "[29.583690242131027,\n",
       " 20.589021752694983,\n",
       " 15.052158910393116,\n",
       " 18.058029132635333,\n",
       " 13.833651229398463]"
      ]
     },
     "execution_count": 31,
     "metadata": {},
     "output_type": "execute_result"
    }
   ],
   "source": [
    "valid_score"
   ]
  },
  {
   "cell_type": "code",
   "execution_count": 26,
   "id": "b592d255-634e-491d-8e52-8ad2b5691a65",
   "metadata": {},
   "outputs": [
    {
     "data": {
      "text/plain": [
       "array([1, 2, 3, 4, 5, 6, 7])"
      ]
     },
     "execution_count": 26,
     "metadata": {},
     "output_type": "execute_result"
    }
   ],
   "source": [
    "proc_data['weather'].unique()"
   ]
  },
  {
   "attachments": {
    "2352e381-9504-444d-bef8-05b6a8afb0dc.png": {
     "image/png": "[encoded data removed]"
    }
   },
   "cell_type": "markdown",
   "id": "73ad8a9d-492d-4a28-836b-4e9f3cf55b58",
   "metadata": {},
   "source": [
    "memo\n",
    "feature traceのスコア  \n",
    "![image.png](attachment:2352e381-9504-444d-bef8-05b6a8afb0dc.png)"
   ]
  },
  {
   "cell_type": "markdown",
   "id": "117144ba-520d-422e-ba01-ff48344df154",
   "metadata": {},
   "source": [
    "memo feature traceのスコアで曇、晴れ 丸め込み"
   ]
  },
  {
   "attachments": {
    "352dc31a-73d3-4403-8cac-ae2735934f42.png": {
     "image/png": "[encoded data removed]"
    }
   },
   "cell_type": "markdown",
   "id": "ca756f7d-2fa1-4783-9beb-1e4fcee5d7da",
   "metadata": {},
   "source": [
    "![image.png](attachment:352dc31a-73d3-4403-8cac-ae2735934f42.png)"
   ]
  },
  {
   "attachments": {
    "e5b6f55c-e52c-4517-a5de-0d255fda2063.png": {
     "image/png": "[encoded data removed]"
    }
   },
   "cell_type": "markdown",
   "id": "e6d17e54-ad4e-4c2d-99d3-c355f12ba3a1",
   "metadata": {},
   "source": [
    "memo  \n",
    "自分で特徴量考えたやつ。 一番だめかも  過学習しはじめてる。  \n",
    "![image.png](attachment:e5b6f55c-e52c-4517-a5de-0d255fda2063.png)"
   ]
  },
  {
   "cell_type": "markdown",
   "id": "068f3dff-729f-4c53-9a47-81f2d9a1d989",
   "metadata": {},
   "source": [
    "# 予測"
   ]
  },
  {
   "cell_type": "code",
   "execution_count": 55,
   "id": "34872ab5-a47b-44e2-a8ed-fdf84f1ac9fe",
   "metadata": {},
   "outputs": [
    {
     "name": "stdout",
     "output_type": "stream",
     "text": [
      "(40, 16) (40,)\n"
     ]
    }
   ],
   "source": [
    "X_test = proc_data_test.drop(columns = 'y')\n",
    "y_test = proc_data_test['y']\n",
    "print(X_test.shape, y_test.shape)"
   ]
  },
  {
   "cell_type": "code",
   "execution_count": 68,
   "id": "8dcadb8a-4a4d-425f-8024-b521373c67b9",
   "metadata": {
    "tags": []
   },
   "outputs": [],
   "source": [
    "y_test_pred = [model.predict(X_test) for model in models]\n",
    "y_test_pred = np.mean(y_test_pred, axis = 0)"
   ]
  },
  {
   "cell_type": "code",
   "execution_count": 69,
   "id": "0ed95011-a998-4e5f-b9e7-8e8c1d0f1bad",
   "metadata": {},
   "outputs": [
    {
     "data": {
      "text/plain": [
       "<AxesSubplot:xlabel='datetime', ylabel='y'>"
      ]
     },
     "execution_count": 69,
     "metadata": {},
     "output_type": "execute_result"
    },
    {
     "data": {
      "image/png": "[encoded data removed]",
      "text/plain": [
       "<Figure size 432x288 with 1 Axes>"
      ]
     },
     "metadata": {
      "needs_background": "light"
     },
     "output_type": "display_data"
    }
   ],
   "source": [
    "y_test_pred = pd.DataFrame(y_test_pred)\n",
    "sample_data = pd.read_csv('sample.csv', header = None)\n",
    "submit_data = pd.concat([sample_data[0], y_test_pred], axis = 1)\n",
    "submit_data.columns = ['datetime', 'y']\n",
    "sns.lineplot(x = 'datetime', y = 'y', data = submit_data)"
   ]
  },
  {
   "cell_type": "markdown",
   "id": "9c28c46c-c192-4d18-b228-a66667a91923",
   "metadata": {},
   "source": [
    "### 提出データ"
   ]
  },
  {
   "cell_type": "code",
   "execution_count": 32,
   "id": "f989eec8-c563-4908-9124-fc6f1a8b3378",
   "metadata": {},
   "outputs": [],
   "source": [
    "submit_data.to_csv('submit_211101_RF_weathers-曇薄曇group-晴れ快晴group_cv13-83.csv',index = False, header = False)"
   ]
  },
  {
   "cell_type": "code",
   "execution_count": null,
   "id": "fbc862d8-098f-4679-ab89-49ac4c5a532e",
   "metadata": {},
   "outputs": [],
   "source": []
  },
  {
   "cell_type": "code",
   "execution_count": null,
   "id": "a25eda85-970f-481f-ac6a-a7361aa8bed7",
   "metadata": {},
   "outputs": [],
   "source": []
  },
  {
   "cell_type": "markdown",
   "id": "c405b5d2-c8f9-4aab-bd99-b069aa45e2bb",
   "metadata": {},
   "source": [
    "# testデータで予測"
   ]
  },
  {
   "cell_type": "markdown",
   "id": "b3694009-6c01-4921-9cc7-e4db5a9c0a2f",
   "metadata": {},
   "source": [
    "## モデルの作成\n",
    "全データを学習として使う。"
   ]
  },
  {
   "cell_type": "code",
   "execution_count": 33,
   "id": "db0db23f-fc80-4677-986e-1065556a7130",
   "metadata": {},
   "outputs": [
    {
     "name": "stdout",
     "output_type": "stream",
     "text": [
      "(167, 14) (167,)\n"
     ]
    }
   ],
   "source": [
    "X = proc_data_train.drop(columns = 'y')\n",
    "y = proc_data_train['y']\n",
    "print(X.shape, y.shape)\n",
    "\n",
    "X_index = X.index"
   ]
  },
  {
   "cell_type": "code",
   "execution_count": 74,
   "id": "3939d2ad-8557-4c6b-814e-9aa097b65315",
   "metadata": {},
   "outputs": [
    {
     "name": "stdout",
     "output_type": "stream",
     "text": [
      "(40, 12) (40,)\n"
     ]
    }
   ],
   "source": [
    "X_test = proc_data_test.drop(columns = 'y')\n",
    "y_test = proc_data_test['y']\n",
    "print(X_test.shape, y_test.shape)\n"
   ]
  },
  {
   "cell_type": "code",
   "execution_count": 70,
   "id": "0042283b-408c-48c1-8680-2a379a4e0ba0",
   "metadata": {},
   "outputs": [
    {
     "data": {
      "text/plain": [
       "RandomForestRegressor(max_depth=4, random_state=777)"
      ]
     },
     "execution_count": 70,
     "metadata": {},
     "output_type": "execute_result"
    }
   ],
   "source": [
    "X_train, X_valid = X.iloc[train_index], X.iloc[valid_index]\n",
    "y_train, y_valid = y.iloc[train_index], y.iloc[valid_index]\n",
    "\n",
    "\n",
    "model = RF(n_estimators=100,max_depth=4,random_state=777)\n",
    "model.fit(X_train, y_train)\n"
   ]
  },
  {
   "cell_type": "code",
   "execution_count": 71,
   "id": "99ea7bbe-d95b-4daf-8c17-37ae9f84e063",
   "metadata": {},
   "outputs": [
    {
     "data": {
      "text/plain": [
       "<AxesSubplot:xlabel='datetime', ylabel='y'>"
      ]
     },
     "execution_count": 71,
     "metadata": {},
     "output_type": "execute_result"
    },
    {
     "data": {
      "image/png": "[encoded data removed]",
      "text/plain": [
       "<Figure size 432x288 with 1 Axes>"
      ]
     },
     "metadata": {
      "needs_background": "light"
     },
     "output_type": "display_data"
    }
   ],
   "source": [
    "y_test_pred_all_train_data = model.predict(X_test)\n",
    "y_test_pred_all_train_data = pd.DataFrame(y_test_pred_all_train_data)\n",
    "sample_data_all_train_data = pd.read_csv('sample.csv', header = None)\n",
    "submit_data_all_train_data = pd.concat([sample_data_all_train_data[0], y_test_pred_all_train_data], axis = 1)\n",
    "submit_data_all_train_data.columns = ['datetime', 'y']\n",
    "sns.lineplot(x = 'datetime', y = 'y', data = submit_data_all_train_data)"
   ]
  },
  {
   "cell_type": "code",
   "execution_count": 95,
   "id": "8ef2761a-8428-4a53-9ff7-53e76db7670d",
   "metadata": {},
   "outputs": [
    {
     "data": {
      "text/plain": [
       "[<matplotlib.lines.Line2D at 0x7f08844658e0>]"
      ]
     },
     "execution_count": 95,
     "metadata": {},
     "output_type": "execute_result"
    },
    {
     "data": {
      "image/png": "[encoded data removed]",
      "text/plain": [
       "<Figure size 432x288 with 1 Axes>"
      ]
     },
     "metadata": {
      "needs_background": "light"
     },
     "output_type": "display_data"
    }
   ],
   "source": [
    "plt.plot(all_data['datetime'], all_data['y'])\n",
    "\n",
    "plt.plot(submit_data['datetime'], submit_data['y'])"
   ]
  }
 ],
 "metadata": {
  "kernelspec": {
   "display_name": "Python 3",
   "language": "python",
   "name": "python3"
  },
  "language_info": {
   "codemirror_mode": {
    "name": "ipython",
    "version": 3
   },
   "file_extension": ".py",
   "mimetype": "text/x-python",
   "name": "python",
   "nbconvert_exporter": "python",
   "pygments_lexer": "ipython3",
   "version": "3.8.8"
  }
 },
 "nbformat": 4,
 "nbformat_minor": 5
}
